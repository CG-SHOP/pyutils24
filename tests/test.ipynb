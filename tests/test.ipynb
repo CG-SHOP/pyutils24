{
 "cells": [
  {
   "cell_type": "code",
   "execution_count": null,
   "metadata": {},
   "outputs": [],
   "source": [
    "import matplotlib.pyplot as plt\n",
    "\n",
    "from cgshop2024_pyutils import (\n",
    "    BadSolutionFile,\n",
    "    InstanceDatabase,\n",
    "    InvalidSolution,\n",
    "    read_solution,\n",
    "    verify,\n",
    ")\n",
    "from cgshop2024_pyutils.visualization import plot_solution\n",
    "\n",
    "db = InstanceDatabase(\"./assets/cgshop2024_benchmark.zip\")\n",
    "\n",
    "\n",
    "def rverify(instance, solution):\n",
    "    try:\n",
    "        value = verify(instance, solution, slow=True)\n",
    "    except InvalidSolution as inv_sol:\n",
    "        print(\"Solution is invalid:\", inv_sol)\n",
    "        return False\n",
    "    except BadSolutionFile as bad_sol:\n",
    "        print(\"Solution file is invalid:\", bad_sol)\n",
    "        return False\n",
    "    else:\n",
    "        print(\"Solution is valid and has value\", value)\n",
    "        return True"
   ]
  },
  {
   "cell_type": "code",
   "execution_count": null,
   "metadata": {},
   "outputs": [],
   "source": [
    "solution = read_solution(\"assets/test_border.json\")\n",
    "instance = db[solution[\"instance_name\"]]\n",
    "assert rverify(instance, solution) is True"
   ]
  },
  {
   "cell_type": "code",
   "execution_count": null,
   "metadata": {},
   "outputs": [],
   "source": [
    "solution = read_solution(\"assets/test_overlap.json\")\n",
    "instance = db[solution[\"instance_name\"]]\n",
    "assert rverify(instance, solution) is False"
   ]
  },
  {
   "cell_type": "code",
   "execution_count": null,
   "metadata": {},
   "outputs": [],
   "source": [
    "solution = read_solution(\"assets/test_bounds.json\")\n",
    "instance = db[solution[\"instance_name\"]]\n",
    "assert rverify(instance, solution) is False"
   ]
  },
  {
   "cell_type": "code",
   "execution_count": null,
   "metadata": {},
   "outputs": [],
   "source": [
    "solution = read_solution(\"assets/test_multi.json\")\n",
    "instance = db[solution[\"instance_name\"]]\n",
    "assert rverify(instance, solution) is False"
   ]
  },
  {
   "cell_type": "code",
   "execution_count": null,
   "metadata": {},
   "outputs": [],
   "source": [
    "solution = read_solution(\"assets/test_negindex.json\")\n",
    "instance = db[solution[\"instance_name\"]]\n",
    "assert rverify(instance, solution) is False"
   ]
  },
  {
   "cell_type": "code",
   "execution_count": null,
   "metadata": {},
   "outputs": [],
   "source": [
    "solution = read_solution(\"assets/test_highindex.json\")\n",
    "instance = db[solution[\"instance_name\"]]\n",
    "assert rverify(instance, solution) is False"
   ]
  },
  {
   "cell_type": "code",
   "execution_count": null,
   "metadata": {},
   "outputs": [],
   "source": [
    "solution = read_solution(\"assets/test_same_overlap.json\")\n",
    "instance = db[solution[\"instance_name\"]]\n",
    "assert rverify(instance, solution) is False"
   ]
  },
  {
   "cell_type": "code",
   "execution_count": null,
   "metadata": {},
   "outputs": [],
   "source": [
    "solution = read_solution(\"assets/test_same_used.json\")\n",
    "instance = db[solution[\"instance_name\"]]\n",
    "assert rverify(instance, solution) is True"
   ]
  },
  {
   "cell_type": "code",
   "execution_count": null,
   "metadata": {},
   "outputs": [],
   "source": [
    "print(instance)\n",
    "plot_solution(plt.gca(), instance, solution)"
   ]
  }
 ],
 "metadata": {
  "kernelspec": {
   "display_name": "cgshop_2024",
   "language": "python",
   "name": "python3"
  },
  "language_info": {
   "codemirror_mode": {
    "name": "ipython",
    "version": 3
   },
   "file_extension": ".py",
   "mimetype": "text/x-python",
   "name": "python",
   "nbconvert_exporter": "python",
   "pygments_lexer": "ipython3",
   "version": "3.11.4"
  }
 },
 "nbformat": 4,
 "nbformat_minor": 2
}
