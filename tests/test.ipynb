{
 "cells": [
  {
   "cell_type": "code",
   "execution_count": 1,
   "metadata": {},
   "outputs": [],
   "source": [
    "import matplotlib.pyplot as plt\n",
    "\n",
    "from cgshop2024_pyutils import (\n",
    "    BadSolutionFile,\n",
    "    InstanceDatabase,\n",
    "    InvalidSolution,\n",
    "    read_solution,\n",
    "    verify,\n",
    "    ZipSolutionIterator, ZipReaderError\n",
    ")\n",
    "from cgshop2024_pyutils.visualization import plot_solution\n",
    "\n",
    "db = InstanceDatabase(\"./assets/cgshop2024_benchmark.zip\")\n",
    "\n",
    "\n",
    "def rverify(instance, solution):\n",
    "    try:\n",
    "        value = verify(instance, solution)\n",
    "    except InvalidSolution as inv_sol:\n",
    "        print(\"Solution is invalid:\", inv_sol)\n",
    "        return False\n",
    "    except BadSolutionFile as bad_sol:\n",
    "        print(\"Solution file is invalid:\", bad_sol)\n",
    "        return False\n",
    "    else:\n",
    "        print(\"Solution is valid and has value\", value)\n",
    "        return True"
   ]
  },
  {
   "cell_type": "code",
   "execution_count": 2,
   "metadata": {},
   "outputs": [
    {
     "name": "stdout",
     "output_type": "stream",
     "text": [
      "Solution is valid and has value 25686304\n"
     ]
    }
   ],
   "source": [
    "solution = read_solution(\"./assets/test_border.json\")\n",
    "instance = db[solution[\"instance_name\"]]\n",
    "assert rverify(instance, solution) is True"
   ]
  },
  {
   "cell_type": "code",
   "execution_count": 3,
   "metadata": {},
   "outputs": [
    {
     "name": "stdout",
     "output_type": "stream",
     "text": [
      "Solution is invalid: Item 817 does not fit: 'Items must not intersect.'\n"
     ]
    }
   ],
   "source": [
    "solution = read_solution(\"./assets/test_overlap.json\")\n",
    "instance = db[solution[\"instance_name\"]]\n",
    "assert rverify(instance, solution) is False"
   ]
  },
  {
   "cell_type": "code",
   "execution_count": 4,
   "metadata": {},
   "outputs": [
    {
     "name": "stdout",
     "output_type": "stream",
     "text": [
      "Solution is invalid: Item 0 does not fit: 'Item must be inside container.'\n"
     ]
    }
   ],
   "source": [
    "solution = read_solution(\"./assets/test_bounds.json\")\n",
    "instance = db[solution[\"instance_name\"]]\n",
    "assert rverify(instance, solution) is False"
   ]
  },
  {
   "cell_type": "code",
   "execution_count": 5,
   "metadata": {},
   "outputs": [
    {
     "name": "stdout",
     "output_type": "stream",
     "text": [
      "Solution is invalid: Item 0 is used too often.\n"
     ]
    }
   ],
   "source": [
    "solution = read_solution(\"./assets/test_multi.json\")\n",
    "instance = db[solution[\"instance_name\"]]\n",
    "assert rverify(instance, solution) is False"
   ]
  },
  {
   "cell_type": "code",
   "execution_count": 6,
   "metadata": {},
   "outputs": [
    {
     "name": "stdout",
     "output_type": "stream",
     "text": [
      "Solution is invalid: Item index -1 is out of bounds.\n"
     ]
    }
   ],
   "source": [
    "solution = read_solution(\"./assets/test_negindex.json\")\n",
    "instance = db[solution[\"instance_name\"]]\n",
    "assert rverify(instance, solution) is False"
   ]
  },
  {
   "cell_type": "code",
   "execution_count": 7,
   "metadata": {},
   "outputs": [
    {
     "name": "stdout",
     "output_type": "stream",
     "text": [
      "Solution is invalid: Item index 3000 is out of bounds.\n"
     ]
    }
   ],
   "source": [
    "solution = read_solution(\"./assets/test_highindex.json\")\n",
    "instance = db[solution[\"instance_name\"]]\n",
    "assert rverify(instance, solution) is False"
   ]
  },
  {
   "cell_type": "code",
   "execution_count": 8,
   "metadata": {},
   "outputs": [
    {
     "name": "stdout",
     "output_type": "stream",
     "text": [
      "Solution is invalid: Item 2 does not fit: 'Items must not intersect.'\n"
     ]
    }
   ],
   "source": [
    "solution = read_solution(\"./assets/test_same_overlap.json\")\n",
    "instance = db[solution[\"instance_name\"]]\n",
    "assert rverify(instance, solution) is False"
   ]
  },
  {
   "cell_type": "code",
   "execution_count": 9,
   "metadata": {},
   "outputs": [
    {
     "name": "stdout",
     "output_type": "stream",
     "text": [
      "Solution is valid and has value 3\n"
     ]
    }
   ],
   "source": [
    "solution = read_solution(\"./assets/test_same_used.json\")\n",
    "instance = db[solution[\"instance_name\"]]\n",
    "assert rverify(instance, solution) is True"
   ]
  },
  {
   "cell_type": "code",
   "execution_count": 10,
   "metadata": {},
   "outputs": [
    {
     "name": "stdout",
     "output_type": "stream",
     "text": [
      "{'instance_name': 'random_cf1_64ac4991_50', 'meta': {'generator': 'random_simple', 'convex_chance': 0.9208070793994108, 'size_distribution': 'gaussian', 'hull_complexity': 20, 'hull_area_multi': 0.4172643990802484}, 'num_items': 35, 'container': {'x': [3200000, 2600000, 2300000, 1000000, 800000, 0, 0, 100000, 1800000, 2400000, 4300000, 5500000, 6700000, 6800000, 6900000, 6900000, 6800000, 6600000, 5700000, 4600000], 'y': [6400000, 6200000, 6100000, 5500000, 5300000, 2000000, 0, 0, 100000, 300000, 1200000, 1800000, 2800000, 3300000, 4200000, 4600000, 5400000, 6000000, 6300000, 6400000]}, 'items': [{'value': 1, 'quantity': 1, 'x': [1900000, 2000000, 1500000, 0, 400000], 'y': [600000, 1900000, 2000000, 1400000, 0]}, {'value': 1, 'quantity': 1, 'x': [2700000, 0, 1700000], 'y': [300000, 600000, 0]}, {'value': 1, 'quantity': 2, 'x': [1800000, 1500000, 0, 1500000], 'y': [200000, 1800000, 1100000, 0]}, {'value': 1, 'quantity': 1, 'x': [900000, 1500000, 0], 'y': [200000, 1800000, 0]}, {'value': 1, 'quantity': 5, 'x': [2100000, 300000, 0], 'y': [900000, 1800000, 0]}, {'value': 1, 'quantity': 1, 'x': [2300000, 800000, 0, 1800000], 'y': [300000, 2900000, 200000, 0]}, {'value': 1, 'quantity': 2, 'x': [2300000, 1700000, 0], 'y': [100000, 1200000, 0]}, {'value': 1, 'quantity': 1, 'x': [1100000, 1400000, 0, 100000], 'y': [400000, 2000000, 1900000, 0]}, {'value': 1, 'quantity': 2, 'x': [800000, 1200000, 0, 400000], 'y': [400000, 2400000, 800000, 0]}, {'value': 1, 'quantity': 1, 'x': [900000, 1500000, 1900000, 2100000, 900000, 100000, 0], 'y': [300000, 0, 200000, 1500000, 1900000, 1800000, 1500000]}, {'value': 1, 'quantity': 1, 'x': [800000, 0, 900000], 'y': [2700000, 1200000, 0]}, {'value': 1, 'quantity': 3, 'x': [2700000, 0, 2500000], 'y': [2500000, 1600000, 0]}, {'value': 1, 'quantity': 1, 'x': [1800000, 1000000, 0], 'y': [2000000, 1700000, 0]}, {'value': 1, 'quantity': 2, 'x': [2500000, 1900000, 0], 'y': [1200000, 1200000, 0]}, {'value': 1, 'quantity': 1, 'x': [500000, 0, 1000000], 'y': [900000, 1100000, 0]}, {'value': 1, 'quantity': 1, 'x': [1100000, 1300000, 2100000, 0, 400000], 'y': [300000, 500000, 2200000, 2600000, 0]}, {'value': 1, 'quantity': 1, 'x': [1200000, 0, 1400000], 'y': [2700000, 2900000, 0]}, {'value': 1, 'quantity': 1, 'x': [1400000, 0, 100000], 'y': [0, 1700000, 0]}, {'value': 1, 'quantity': 1, 'x': [2100000, 0, 2200000], 'y': [2300000, 1600000, 0]}, {'value': 1, 'quantity': 1, 'x': [500000, 400000, 0], 'y': [1600000, 2000000, 0]}, {'value': 1, 'quantity': 1, 'x': [1800000, 1300000, 0, 300000], 'y': [400000, 1800000, 1800000, 0]}, {'value': 1, 'quantity': 1, 'x': [1000000, 0, 1600000], 'y': [2200000, 400000, 0]}, {'value': 1, 'quantity': 1, 'x': [2300000, 0, 0, 1900000], 'y': [1600000, 1500000, 400000, 0]}, {'value': 1, 'quantity': 1, 'x': [2400000, 1600000, 500000, 0, 100000, 2000000], 'y': [200000, 1900000, 1300000, 700000, 500000, 0]}, {'value': 1, 'quantity': 1, 'x': [1300000, 0, 2000000], 'y': [700000, 400000, 0]}, {'value': 1, 'quantity': 1, 'x': [1500000, 1400000, 800000, 0, 900000, 1600000], 'y': [600000, 900000, 1100000, 1200000, 200000, 0]}, {'value': 1, 'quantity': 1, 'x': [2100000, 2000000, 200000, 0], 'y': [300000, 2100000, 400000, 0]}, {'value': 1, 'quantity': 1, 'x': [1000000, 1100000, 0, 200000], 'y': [1100000, 1900000, 500000, 0]}, {'value': 1, 'quantity': 1, 'x': [2100000, 500000, 0, 300000, 2400000], 'y': [2100000, 2300000, 2200000, 800000, 0]}, {'value': 1, 'quantity': 1, 'x': [400000, 1100000, 1500000, 1600000, 0], 'y': [400000, 1400000, 2400000, 2800000, 0]}, {'value': 1, 'quantity': 1, 'x': [300000, 400000, 0], 'y': [500000, 1200000, 0]}, {'value': 1, 'quantity': 3, 'x': [1600000, 1000000, 0, 1100000], 'y': [1500000, 1100000, 400000, 0]}, {'value': 1, 'quantity': 1, 'x': [1300000, 0, 0], 'y': [700000, 800000, 0]}, {'value': 1, 'quantity': 1, 'x': [1000000, 1000000, 0], 'y': [1000000, 2000000, 0]}, {'value': 1, 'quantity': 4, 'x': [1600000, 200000, 0, 1000000], 'y': [1200000, 2200000, 200000, 0]}], 'type': 'cgshop2024_instance'}\n"
     ]
    },
    {
     "data": {
      "image/png": "[encoded data removed]",
      "text/plain": [
       "<Figure size 640x480 with 1 Axes>"
      ]
     },
     "metadata": {},
     "output_type": "display_data"
    }
   ],
   "source": [
    "print(instance)\n",
    "plot_solution(plt.gca(), instance, solution)"
   ]
  },
  {
   "cell_type": "code",
   "execution_count": 11,
   "metadata": {},
   "outputs": [
    {
     "name": "stdout",
     "output_type": "stream",
     "text": [
      "Solution is valid and has value 2538264763\n",
      "Solution is valid and has value 4209843691\n",
      "Solution is valid and has value 3475397306\n",
      "Solution is valid and has value 2211862923\n",
      "Solution is valid and has value 6246792830\n",
      "Solution is valid and has value 8322946777\n",
      "Solution is valid and has value 8151466155\n",
      "Solution is valid and has value 6053180520\n",
      "Solution is valid and has value 11916630750\n",
      "Solution is valid and has value 6820996832\n",
      "Solution is valid and has value 5524148510\n",
      "Solution is valid and has value 13877391009\n",
      "Solution is valid and has value 11426554520\n",
      "Solution is valid and has value 13032526575\n",
      "Solution is valid and has value 8658724882\n",
      "Solution is valid and has value 26345552429\n",
      "Solution is valid and has value 23027384550\n",
      "Solution is valid and has value 31684524787\n",
      "Solution is valid and has value 28496877101\n",
      "Solution is valid and has value 20433058787\n",
      "Solution is valid and has value 50217774675\n",
      "Solution is valid and has value 27494453573\n",
      "Solution is valid and has value 47937810594\n",
      "Solution is valid and has value 70497928523\n",
      "Solution is valid and has value 51555649370\n",
      "Solution is valid and has value 68414489915\n",
      "Solution is valid and has value 92893253107\n",
      "Solution is valid and has value 182862311802\n",
      "Solution is valid and has value 150403354641\n",
      "Solution is valid and has value 1022\n",
      "Solution is valid and has value 2532\n",
      "Solution is valid and has value 4505\n",
      "Solution is valid and has value 14\n",
      "Solution is valid and has value 107\n",
      "Solution is valid and has value 5437\n"
     ]
    }
   ],
   "source": [
    "\n",
    "ZIP_FILE = \"../submission_dortmund.zip\"\n",
    "\n",
    "sol_it = ZipSolutionIterator()\n",
    "try:\n",
    "    for solution in sol_it(ZIP_FILE):\n",
    "        instance = db[solution[\"instance_name\"]]\n",
    "        try:\n",
    "            value = verify(instance, solution)\n",
    "        except InvalidSolution as inv_sol:\n",
    "            print(\"Solution is invalid:\", inv_sol)\n",
    "            break\n",
    "        except BadSolutionFile as bad_sol:\n",
    "            print(\"Solution file is invalid:\", bad_sol)\n",
    "            break\n",
    "        print(\"Solution is valid and has value\", value)\n",
    "except ZipReaderError as err:\n",
    "    print(\"Error while reading zip file:\", err)\n",
    "except BadSolutionFile as bad_sol:\n",
    "    print(\"Solution file is invalid:\", bad_sol)"
   ]
  }
 ],
 "metadata": {
  "kernelspec": {
   "display_name": "cgshop_2024",
   "language": "python",
   "name": "python3"
  },
  "language_info": {
   "codemirror_mode": {
    "name": "ipython",
    "version": 3
   },
   "file_extension": ".py",
   "mimetype": "text/x-python",
   "name": "python",
   "nbconvert_exporter": "python",
   "pygments_lexer": "ipython3",
   "version": "3.10.8"
  }
 },
 "nbformat": 4,
 "nbformat_minor": 2
}
